{
 "cells": [
  {
   "cell_type": "code",
   "execution_count": 1,
   "metadata": {},
   "outputs": [
    {
     "data": {
      "text/plain": [
       "'1.1.3'"
      ]
     },
     "execution_count": 1,
     "metadata": {},
     "output_type": "execute_result"
    }
   ],
   "source": [
    "import pandas as pd\n",
    "pd.__version__"
   ]
  },
  {
   "cell_type": "code",
   "execution_count": 2,
   "metadata": {},
   "outputs": [],
   "source": [
    "import glob\n",
    "path = r'C:\\Users\\owynd\\bip-python-unh\\sales_analysis\\data' # use your path\n",
    "all_files = glob.glob(path + \"/*.csv\")\n",
    "\n",
    "li = []\n",
    "for filename in all_files:\n",
    "    df = pd.read_csv(filename, index_col=None, header=0)\n",
    "    li.append(df)\n",
    "\n",
    "frame = pd.concat(li, axis=0, ignore_index=True)"
   ]
  },
  {
   "cell_type": "code",
   "execution_count": 3,
   "metadata": {},
   "outputs": [
    {
     "name": "stdout",
     "output_type": "stream",
     "text": [
      "      contract_id  customer_id contract_start  contract_term     deposit  \\\n",
      "0             1.0        127.0      8/17/2019           12.0  $53,000.00   \n",
      "1             2.0        119.0      12/1/2019           22.0  $77,000.00   \n",
      "2             3.0        160.0       5/1/2019           15.0  $13,000.00   \n",
      "3             4.0          7.0      12/8/2019           23.0  $56,000.00   \n",
      "4             5.0        144.0      2/11/2019            7.0  $21,000.00   \n",
      "...           ...          ...            ...            ...         ...   \n",
      "1245          NaN          NaN            NaN            NaN         NaN   \n",
      "1246          NaN          NaN            NaN            NaN         NaN   \n",
      "1247          NaN          NaN            NaN            NaN         NaN   \n",
      "1248          NaN          NaN            NaN            NaN         NaN   \n",
      "1249          NaN          NaN            NaN            NaN         NaN   \n",
      "\n",
      "     monthly_amt     id      company            sector  \\\n",
      "0     $11,600.00    NaN          NaN               NaN   \n",
      "1     $14,600.00    NaN          NaN               NaN   \n",
      "2     $22,800.00    NaN          NaN               NaN   \n",
      "3     $11,400.00    NaN          NaN               NaN   \n",
      "4     $19,800.00    NaN          NaN               NaN   \n",
      "...          ...    ...          ...               ...   \n",
      "1245         NaN  246.0     Livefish            Energy   \n",
      "1246         NaN  247.0         Katz               NaN   \n",
      "1247         NaN  248.0        Yombu  Public Utilities   \n",
      "1248         NaN  249.0      Dynazzy               NaN   \n",
      "1249         NaN  250.0  Twitterwire        Technology   \n",
      "\n",
      "                         industry                      email  \\\n",
      "0                             NaN                        NaN   \n",
      "1                             NaN                        NaN   \n",
      "2                             NaN                        NaN   \n",
      "3                             NaN                        NaN   \n",
      "4                             NaN                        NaN   \n",
      "...                           ...                        ...   \n",
      "1245  Oilfield Services/Equipment      gcressy6t@twitter.com   \n",
      "1246                          NaN        siacobini6u@fc2.com   \n",
      "1247     Natural Gas Distribution        ccandy6v@tumblr.com   \n",
      "1248                          NaN   lmothersole6w@nsw.gov.au   \n",
      "1249               Semiconductors  haseef6x@miitbeian.gov.cn   \n",
      "\n",
      "                    address            city state      zip  \n",
      "0                       NaN             NaN   NaN      NaN  \n",
      "1                       NaN             NaN   NaN      NaN  \n",
      "2                       NaN             NaN   NaN      NaN  \n",
      "3                       NaN             NaN   NaN      NaN  \n",
      "4                       NaN             NaN   NaN      NaN  \n",
      "...                     ...             ...   ...      ...  \n",
      "1245   05019 Eastwood Alley     Brooksville    FL  34605.0  \n",
      "1246  6567 Old Shore Center           Omaha    NE  68134.0  \n",
      "1247     6442 Vahlen Avenue  Salt Lake City    UT  84125.0  \n",
      "1248      15 Oakridge Court   New York City    NY  10060.0  \n",
      "1249        8190 Rusk Point         Seattle    WA  98166.0  \n",
      "\n",
      "[1250 rows x 15 columns]\n"
     ]
    }
   ],
   "source": [
    "print (frame)"
   ]
  },
  {
   "cell_type": "code",
   "execution_count": 4,
   "metadata": {},
   "outputs": [
    {
     "name": "stdout",
     "output_type": "stream",
     "text": [
      "<pandas.core.groupby.generic.DataFrameGroupBy object at 0x000001934A9D4910>\n"
     ]
    }
   ],
   "source": [
    "money = frame.groupby('deposit', as_index=False)\n",
    "print(money)\n"
   ]
  },
  {
   "cell_type": "code",
   "execution_count": null,
   "metadata": {},
   "outputs": [],
   "source": []
  }
 ],
 "metadata": {
  "kernelspec": {
   "display_name": "Python 3",
   "language": "python",
   "name": "python3"
  },
  "language_info": {
   "codemirror_mode": {
    "name": "ipython",
    "version": 3
   },
   "file_extension": ".py",
   "mimetype": "text/x-python",
   "name": "python",
   "nbconvert_exporter": "python",
   "pygments_lexer": "ipython3",
   "version": "3.8.5"
  }
 },
 "nbformat": 4,
 "nbformat_minor": 4
}
